{
 "cells": [
  {
   "cell_type": "markdown",
   "metadata": {
    "id": "Z-jZGC0q0aiY"
   },
   "source": [
    "# Eclat"
   ]
  },
  {
   "cell_type": "markdown",
   "metadata": {
    "id": "jE4Rc_OO0eJM"
   },
   "source": [
    "## Importing libraries"
   ]
  },
  {
   "cell_type": "code",
   "execution_count": 12,
   "metadata": {},
   "outputs": [],
   "source": [
    "import numpy as np\n",
    "import matplotlib.pyplot as plt\n",
    "import pandas as pd"
   ]
  },
  {
   "cell_type": "markdown",
   "metadata": {
    "id": "A9-xGHd20gY1"
   },
   "source": [
    "## Importing dataset"
   ]
  },
  {
   "cell_type": "code",
   "execution_count": 13,
   "metadata": {},
   "outputs": [],
   "source": [
    "df = pd.read_excel('Netflix_Movie_Recommendation_Ec.xlsx',header = None)\n",
    "transactions = []\n",
    "for i in range(0, 7466):\n",
    "  transactions.append([str(df.values[i,j]) for j in range(0, 20)])"
   ]
  },
  {
   "cell_type": "markdown",
   "metadata": {
    "id": "8REFJFGC0lRN"
   },
   "source": [
    "## Eclat Training on Dataset"
   ]
  },
  {
   "cell_type": "code",
   "execution_count": 14,
   "metadata": {},
   "outputs": [],
   "source": [
    "from apyori import apriori\n",
    "rules = apriori(transactions = transactions, min_support = 0.003, min_confidence = 0.2, min_lift = 3, min_length = 2, max_length = 2)"
   ]
  },
  {
   "cell_type": "markdown",
   "metadata": {
    "id": "-Dw4Khi70u9g"
   },
   "source": [
    "## Visualizing"
   ]
  },
  {
   "cell_type": "markdown",
   "metadata": {
    "id": "LMakVn8pt7Fk"
   },
   "source": [
    "### Raw Results"
   ]
  },
  {
   "cell_type": "code",
   "execution_count": 15,
   "metadata": {},
   "outputs": [],
   "source": [
    "results = list(rules)"
   ]
  },
  {
   "cell_type": "code",
   "execution_count": 16,
   "metadata": {},
   "outputs": [
    {
     "data": {
      "text/plain": [
       "[RelationRecord(items=frozenset({'Black Panther', 'Captain America'}), support=0.00334851326011251, ordered_statistics=[OrderedStatistic(items_base=frozenset({'Captain America'}), items_add=frozenset({'Black Panther'}), confidence=0.24509803921568626, lift=5.140174047146949)]),\n",
       " RelationRecord(items=frozenset({'Comedy nights with Kapil', 'Game of thrones'}), support=0.0032145727297080095, ordered_statistics=[OrderedStatistic(items_base=frozenset({'Game of thrones'}), items_add=frozenset({'Comedy nights with Kapil'}), confidence=0.20512820512820512, lift=3.1001764766946955)]),\n",
       " RelationRecord(items=frozenset({'Comedy nights with Kapil', 'Kanan Gill Comedy'}), support=0.008036431824270024, ordered_statistics=[OrderedStatistic(items_base=frozenset({'Kanan Gill Comedy'}), items_add=frozenset({'Comedy nights with Kapil'}), confidence=0.2714932126696833, lift=4.103174748566509)]),\n",
       " RelationRecord(items=frozenset({'Prision Break', 'Game of thrones'}), support=0.004553978033753014, ordered_statistics=[OrderedStatistic(items_base=frozenset({'Game of thrones'}), items_add=frozenset({'Prision Break'}), confidence=0.2905982905982906, lift=4.832086498010774)]),\n",
       " RelationRecord(items=frozenset({'Harry Potter 1', 'Harry Potter 2'}), support=0.0057594428073935175, ordered_statistics=[OrderedStatistic(items_base=frozenset({'Harry Potter 1'}), items_add=frozenset({'Harry Potter 2'}), confidence=0.36752136752136755, lift=4.642833383950135)]),\n",
       " RelationRecord(items=frozenset({'Harry Potter 1', 'The Lord of the rings'}), support=0.005089740155371015, ordered_statistics=[OrderedStatistic(items_base=frozenset({'Harry Potter 1'}), items_add=frozenset({'The Lord of the rings'}), confidence=0.3247863247863248, lift=4.523982650848323)]),\n",
       " RelationRecord(items=frozenset({'crimes of grindelwald', 'Harry Potter 2'}), support=0.0057594428073935175, ordered_statistics=[OrderedStatistic(items_base=frozenset({'crimes of grindelwald'}), items_add=frozenset({'Harry Potter 2'}), confidence=0.3006993006993007, lift=3.7986818595955647)]),\n",
       " RelationRecord(items=frozenset({'Interstellar', 'inception'}), support=0.015938923118135547, ordered_statistics=[OrderedStatistic(items_base=frozenset({'Interstellar'}), items_add=frozenset({'inception'}), confidence=0.3216216216216216, lift=3.262536721504113)]),\n",
       " RelationRecord(items=frozenset({'inception', 'The Wolf of Wall Street'}), support=0.005357621216180016, ordered_statistics=[OrderedStatistic(items_base=frozenset({'The Wolf of Wall Street'}), items_add=frozenset({'inception'}), confidence=0.3773584905660377, lift=3.8279327317473335)])]"
      ]
     },
     "execution_count": 16,
     "metadata": {},
     "output_type": "execute_result"
    }
   ],
   "source": [
    "results"
   ]
  },
  {
   "cell_type": "code",
   "execution_count": 17,
   "metadata": {},
   "outputs": [
    {
     "name": "stdout",
     "output_type": "stream",
     "text": [
      "[RelationRecord(items=frozenset({'Black Panther', 'Captain America'}), support=0.00334851326011251, ordered_statistics=[OrderedStatistic(items_base=frozenset({'Captain America'}), items_add=frozenset({'Black Panther'}), confidence=0.24509803921568626, lift=5.140174047146949)]), RelationRecord(items=frozenset({'Comedy nights with Kapil', 'Game of thrones'}), support=0.0032145727297080095, ordered_statistics=[OrderedStatistic(items_base=frozenset({'Game of thrones'}), items_add=frozenset({'Comedy nights with Kapil'}), confidence=0.20512820512820512, lift=3.1001764766946955)]), RelationRecord(items=frozenset({'Comedy nights with Kapil', 'Kanan Gill Comedy'}), support=0.008036431824270024, ordered_statistics=[OrderedStatistic(items_base=frozenset({'Kanan Gill Comedy'}), items_add=frozenset({'Comedy nights with Kapil'}), confidence=0.2714932126696833, lift=4.103174748566509)]), RelationRecord(items=frozenset({'Prision Break', 'Game of thrones'}), support=0.004553978033753014, ordered_statistics=[OrderedStatistic(items_base=frozenset({'Game of thrones'}), items_add=frozenset({'Prision Break'}), confidence=0.2905982905982906, lift=4.832086498010774)]), RelationRecord(items=frozenset({'Harry Potter 1', 'Harry Potter 2'}), support=0.0057594428073935175, ordered_statistics=[OrderedStatistic(items_base=frozenset({'Harry Potter 1'}), items_add=frozenset({'Harry Potter 2'}), confidence=0.36752136752136755, lift=4.642833383950135)]), RelationRecord(items=frozenset({'Harry Potter 1', 'The Lord of the rings'}), support=0.005089740155371015, ordered_statistics=[OrderedStatistic(items_base=frozenset({'Harry Potter 1'}), items_add=frozenset({'The Lord of the rings'}), confidence=0.3247863247863248, lift=4.523982650848323)]), RelationRecord(items=frozenset({'crimes of grindelwald', 'Harry Potter 2'}), support=0.0057594428073935175, ordered_statistics=[OrderedStatistic(items_base=frozenset({'crimes of grindelwald'}), items_add=frozenset({'Harry Potter 2'}), confidence=0.3006993006993007, lift=3.7986818595955647)]), RelationRecord(items=frozenset({'Interstellar', 'inception'}), support=0.015938923118135547, ordered_statistics=[OrderedStatistic(items_base=frozenset({'Interstellar'}), items_add=frozenset({'inception'}), confidence=0.3216216216216216, lift=3.262536721504113)]), RelationRecord(items=frozenset({'inception', 'The Wolf of Wall Street'}), support=0.005357621216180016, ordered_statistics=[OrderedStatistic(items_base=frozenset({'The Wolf of Wall Street'}), items_add=frozenset({'inception'}), confidence=0.3773584905660377, lift=3.8279327317473335)])]\n"
     ]
    }
   ],
   "source": [
    "print(results)"
   ]
  },
  {
   "cell_type": "markdown",
   "metadata": {
    "id": "0Ir6DPsdumvX"
   },
   "source": [
    "### Proper Display"
   ]
  },
  {
   "cell_type": "code",
   "execution_count": 18,
   "metadata": {},
   "outputs": [],
   "source": [
    "def inspect(results):\n",
    "    movie_1         = [tuple(result[2][0][0])[0] for result in results]\n",
    "    movie_2         = [tuple(result[2][0][1])[0] for result in results]\n",
    "    supports    = [result[1] for result in results]\n",
    "    return list(zip(movie_1, movie_2, supports))\n",
    "resultsinDataFrame = pd.DataFrame(inspect(results), columns = ['Movie 1', 'Movie 2', 'Support'])"
   ]
  },
  {
   "cell_type": "code",
   "execution_count": 19,
   "metadata": {},
   "outputs": [
    {
     "data": {
      "text/html": [
       "<div>\n",
       "<style scoped>\n",
       "    .dataframe tbody tr th:only-of-type {\n",
       "        vertical-align: middle;\n",
       "    }\n",
       "\n",
       "    .dataframe tbody tr th {\n",
       "        vertical-align: top;\n",
       "    }\n",
       "\n",
       "    .dataframe thead th {\n",
       "        text-align: right;\n",
       "    }\n",
       "</style>\n",
       "<table border=\"1\" class=\"dataframe\">\n",
       "  <thead>\n",
       "    <tr style=\"text-align: right;\">\n",
       "      <th></th>\n",
       "      <th>Movie 1</th>\n",
       "      <th>Movie 2</th>\n",
       "      <th>Support</th>\n",
       "    </tr>\n",
       "  </thead>\n",
       "  <tbody>\n",
       "    <tr>\n",
       "      <th>0</th>\n",
       "      <td>Captain America</td>\n",
       "      <td>Black Panther</td>\n",
       "      <td>0.003349</td>\n",
       "    </tr>\n",
       "    <tr>\n",
       "      <th>1</th>\n",
       "      <td>Game of thrones</td>\n",
       "      <td>Comedy nights with Kapil</td>\n",
       "      <td>0.003215</td>\n",
       "    </tr>\n",
       "    <tr>\n",
       "      <th>2</th>\n",
       "      <td>Kanan Gill Comedy</td>\n",
       "      <td>Comedy nights with Kapil</td>\n",
       "      <td>0.008036</td>\n",
       "    </tr>\n",
       "    <tr>\n",
       "      <th>3</th>\n",
       "      <td>Game of thrones</td>\n",
       "      <td>Prision Break</td>\n",
       "      <td>0.004554</td>\n",
       "    </tr>\n",
       "    <tr>\n",
       "      <th>4</th>\n",
       "      <td>Harry Potter 1</td>\n",
       "      <td>Harry Potter 2</td>\n",
       "      <td>0.005759</td>\n",
       "    </tr>\n",
       "    <tr>\n",
       "      <th>5</th>\n",
       "      <td>Harry Potter 1</td>\n",
       "      <td>The Lord of the rings</td>\n",
       "      <td>0.005090</td>\n",
       "    </tr>\n",
       "    <tr>\n",
       "      <th>6</th>\n",
       "      <td>crimes of grindelwald</td>\n",
       "      <td>Harry Potter 2</td>\n",
       "      <td>0.005759</td>\n",
       "    </tr>\n",
       "    <tr>\n",
       "      <th>7</th>\n",
       "      <td>Interstellar</td>\n",
       "      <td>inception</td>\n",
       "      <td>0.015939</td>\n",
       "    </tr>\n",
       "    <tr>\n",
       "      <th>8</th>\n",
       "      <td>The Wolf of Wall Street</td>\n",
       "      <td>inception</td>\n",
       "      <td>0.005358</td>\n",
       "    </tr>\n",
       "  </tbody>\n",
       "</table>\n",
       "</div>"
      ],
      "text/plain": [
       "                   Movie 1                   Movie 2   Support\n",
       "0          Captain America             Black Panther  0.003349\n",
       "1          Game of thrones  Comedy nights with Kapil  0.003215\n",
       "2        Kanan Gill Comedy  Comedy nights with Kapil  0.008036\n",
       "3          Game of thrones             Prision Break  0.004554\n",
       "4           Harry Potter 1            Harry Potter 2  0.005759\n",
       "5           Harry Potter 1     The Lord of the rings  0.005090\n",
       "6    crimes of grindelwald            Harry Potter 2  0.005759\n",
       "7             Interstellar                 inception  0.015939\n",
       "8  The Wolf of Wall Street                 inception  0.005358"
      ]
     },
     "execution_count": 19,
     "metadata": {},
     "output_type": "execute_result"
    }
   ],
   "source": [
    "resultsinDataFrame"
   ]
  },
  {
   "cell_type": "code",
   "execution_count": 20,
   "metadata": {},
   "outputs": [
    {
     "data": {
      "text/html": [
       "<div>\n",
       "<style scoped>\n",
       "    .dataframe tbody tr th:only-of-type {\n",
       "        vertical-align: middle;\n",
       "    }\n",
       "\n",
       "    .dataframe tbody tr th {\n",
       "        vertical-align: top;\n",
       "    }\n",
       "\n",
       "    .dataframe thead th {\n",
       "        text-align: right;\n",
       "    }\n",
       "</style>\n",
       "<table border=\"1\" class=\"dataframe\">\n",
       "  <thead>\n",
       "    <tr style=\"text-align: right;\">\n",
       "      <th></th>\n",
       "      <th>Movie 1</th>\n",
       "      <th>Movie 2</th>\n",
       "      <th>Support</th>\n",
       "    </tr>\n",
       "  </thead>\n",
       "  <tbody>\n",
       "    <tr>\n",
       "      <th>7</th>\n",
       "      <td>Interstellar</td>\n",
       "      <td>inception</td>\n",
       "      <td>0.015939</td>\n",
       "    </tr>\n",
       "    <tr>\n",
       "      <th>2</th>\n",
       "      <td>Kanan Gill Comedy</td>\n",
       "      <td>Comedy nights with Kapil</td>\n",
       "      <td>0.008036</td>\n",
       "    </tr>\n",
       "    <tr>\n",
       "      <th>4</th>\n",
       "      <td>Harry Potter 1</td>\n",
       "      <td>Harry Potter 2</td>\n",
       "      <td>0.005759</td>\n",
       "    </tr>\n",
       "    <tr>\n",
       "      <th>6</th>\n",
       "      <td>crimes of grindelwald</td>\n",
       "      <td>Harry Potter 2</td>\n",
       "      <td>0.005759</td>\n",
       "    </tr>\n",
       "    <tr>\n",
       "      <th>8</th>\n",
       "      <td>The Wolf of Wall Street</td>\n",
       "      <td>inception</td>\n",
       "      <td>0.005358</td>\n",
       "    </tr>\n",
       "    <tr>\n",
       "      <th>5</th>\n",
       "      <td>Harry Potter 1</td>\n",
       "      <td>The Lord of the rings</td>\n",
       "      <td>0.005090</td>\n",
       "    </tr>\n",
       "    <tr>\n",
       "      <th>3</th>\n",
       "      <td>Game of thrones</td>\n",
       "      <td>Prision Break</td>\n",
       "      <td>0.004554</td>\n",
       "    </tr>\n",
       "    <tr>\n",
       "      <th>0</th>\n",
       "      <td>Captain America</td>\n",
       "      <td>Black Panther</td>\n",
       "      <td>0.003349</td>\n",
       "    </tr>\n",
       "    <tr>\n",
       "      <th>1</th>\n",
       "      <td>Game of thrones</td>\n",
       "      <td>Comedy nights with Kapil</td>\n",
       "      <td>0.003215</td>\n",
       "    </tr>\n",
       "  </tbody>\n",
       "</table>\n",
       "</div>"
      ],
      "text/plain": [
       "                   Movie 1                   Movie 2   Support\n",
       "7             Interstellar                 inception  0.015939\n",
       "2        Kanan Gill Comedy  Comedy nights with Kapil  0.008036\n",
       "4           Harry Potter 1            Harry Potter 2  0.005759\n",
       "6    crimes of grindelwald            Harry Potter 2  0.005759\n",
       "8  The Wolf of Wall Street                 inception  0.005358\n",
       "5           Harry Potter 1     The Lord of the rings  0.005090\n",
       "3          Game of thrones             Prision Break  0.004554\n",
       "0          Captain America             Black Panther  0.003349\n",
       "1          Game of thrones  Comedy nights with Kapil  0.003215"
      ]
     },
     "execution_count": 20,
     "metadata": {},
     "output_type": "execute_result"
    }
   ],
   "source": [
    "resultsinDataFrame.nlargest(n = 10, columns = 'Support')"
   ]
  },
  {
   "cell_type": "code",
   "execution_count": null,
   "metadata": {},
   "outputs": [],
   "source": []
  }
 ],
 "metadata": {
  "colab": {
   "authorship_tag": "ABX9TyM7V9WMbPl/fu/tgvfU9wCP",
   "name": "Eclat Association Rule Learning Template.ipynb",
   "provenance": [],
   "toc_visible": true
  },
  "kernelspec": {
   "display_name": "Python 3 (ipykernel)",
   "language": "python",
   "name": "python3"
  },
  "language_info": {
   "codemirror_mode": {
    "name": "ipython",
    "version": 3
   },
   "file_extension": ".py",
   "mimetype": "text/x-python",
   "name": "python",
   "nbconvert_exporter": "python",
   "pygments_lexer": "ipython3",
   "version": "3.12.1"
  }
 },
 "nbformat": 4,
 "nbformat_minor": 4
}
